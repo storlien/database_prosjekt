{
 "cells": [
  {
   "cell_type": "code",
   "execution_count": 1,
   "metadata": {},
   "outputs": [],
   "source": [
    "from api.tools.ticketmaster import TicketMaster\n",
    "from api.tools.kjopcalculator import PriceCalculator"
   ]
  },
  {
   "cell_type": "code",
   "execution_count": 2,
   "metadata": {},
   "outputs": [],
   "source": [
    "tm = TicketMaster()\n",
    "calculator = PriceCalculator()"
   ]
  },
  {
   "cell_type": "code",
   "execution_count": 3,
   "metadata": {},
   "outputs": [
    {
     "data": {
      "text/plain": [
       "\"9 tickets reserved in section Parkett on row 1 for 'Størst av alt er kjærligheten' on 2024-02-03.\""
      ]
     },
     "execution_count": 3,
     "metadata": {},
     "output_type": "execute_result"
    }
   ],
   "source": [
    "tm.purchase_tickets(\n",
    "    'Størst av alt er kjærligheten', \n",
    "    '2024-02-03', \n",
    "    'Parkett', \n",
    "    9, \n",
    "    92883570, \n",
    "    'Mikael S', \n",
    "    'Breihei 12', \n",
    "    \"Ordinær\")"
   ]
  },
  {
   "cell_type": "code",
   "execution_count": 4,
   "metadata": {},
   "outputs": [
    {
     "data": {
      "text/plain": [
       "'Total price for the purchase: 3150'"
      ]
     },
     "execution_count": 4,
     "metadata": {},
     "output_type": "execute_result"
    }
   ],
   "source": [
    "total_price = calculator.get_purchase_price(\n",
    "    92883570, \n",
    "    'Størst av alt er kjærligheten', \n",
    "    '2024-02-03'\n",
    ")\n",
    "total_price\n"
   ]
  },
  {
   "cell_type": "code",
   "execution_count": null,
   "metadata": {},
   "outputs": [],
   "source": []
  }
 ],
 "metadata": {
  "kernelspec": {
   "display_name": "TIO",
   "language": "python",
   "name": "python3"
  },
  "language_info": {
   "codemirror_mode": {
    "name": "ipython",
    "version": 3
   },
   "file_extension": ".py",
   "mimetype": "text/x-python",
   "name": "python",
   "nbconvert_exporter": "python",
   "pygments_lexer": "ipython3",
   "version": "3.12.0"
  }
 },
 "nbformat": 4,
 "nbformat_minor": 2
}
